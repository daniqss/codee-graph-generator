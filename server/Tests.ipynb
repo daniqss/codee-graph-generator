{
 "cells": [
  {
   "cell_type": "code",
   "execution_count": null,
   "metadata": {},
   "outputs": [],
   "source": [
    "import pandas as pd\n",
    "import json\n",
    "\n",
    "file = json.load(open(\"../dataset/example.json\"))"
   ]
  },
  {
   "cell_type": "code",
   "execution_count": null,
   "metadata": {},
   "outputs": [],
   "source": [
    "pd.DataFrame(file['Evaluation'][1])"
   ]
  },
  {
   "cell_type": "code",
   "execution_count": null,
   "metadata": {},
   "outputs": [],
   "source": [
    "pd.DataFrame(file['Evaluation'][0])"
   ]
  },
  {
   "cell_type": "code",
   "execution_count": null,
   "metadata": {},
   "outputs": [],
   "source": [
    "pd.DataFrame(file['Ranking of Checkers'][0])"
   ]
  },
  {
   "cell_type": "code",
   "execution_count": 1,
   "metadata": {},
   "outputs": [],
   "source": [
    "from read_data import read_data\n",
    "\n",
    "d1, d2, d3 = read_data(\"../dataset/example.json\")"
   ]
  },
  {
   "cell_type": "code",
   "execution_count": 7,
   "metadata": {},
   "outputs": [
    {
     "data": {
      "text/html": [
       "<div>\n",
       "<style scoped>\n",
       "    .dataframe tbody tr th:only-of-type {\n",
       "        vertical-align: middle;\n",
       "    }\n",
       "\n",
       "    .dataframe tbody tr th {\n",
       "        vertical-align: top;\n",
       "    }\n",
       "\n",
       "    .dataframe thead th {\n",
       "        text-align: right;\n",
       "    }\n",
       "</style>\n",
       "<table border=\"1\" class=\"dataframe\">\n",
       "  <thead>\n",
       "    <tr style=\"text-align: right;\">\n",
       "      <th></th>\n",
       "      <th>Target</th>\n",
       "      <th>Lines of code</th>\n",
       "      <th>Optimizable lines</th>\n",
       "      <th>Analysis time</th>\n",
       "      <th># checks</th>\n",
       "      <th>Effort</th>\n",
       "      <th>Cost</th>\n",
       "      <th>Profiling</th>\n",
       "    </tr>\n",
       "  </thead>\n",
       "  <tbody>\n",
       "    <tr>\n",
       "      <th>0</th>\n",
       "      <td>../PL/pfinal/utils.c</td>\n",
       "      <td>233</td>\n",
       "      <td>58</td>\n",
       "      <td>35 ms</td>\n",
       "      <td>4</td>\n",
       "      <td>28 h</td>\n",
       "      <td>916€</td>\n",
       "      <td>n/a</td>\n",
       "    </tr>\n",
       "    <tr>\n",
       "      <th>1</th>\n",
       "      <td>../PL/pfinal/symbols.c</td>\n",
       "      <td>94</td>\n",
       "      <td>6</td>\n",
       "      <td>30 ms</td>\n",
       "      <td>1</td>\n",
       "      <td>8 h</td>\n",
       "      <td>261€</td>\n",
       "      <td>n/a</td>\n",
       "    </tr>\n",
       "    <tr>\n",
       "      <th>2</th>\n",
       "      <td>Total</td>\n",
       "      <td>327</td>\n",
       "      <td>64</td>\n",
       "      <td>65 ms</td>\n",
       "      <td>5</td>\n",
       "      <td>36 h</td>\n",
       "      <td>1178€</td>\n",
       "      <td>n/a</td>\n",
       "    </tr>\n",
       "  </tbody>\n",
       "</table>\n",
       "</div>"
      ],
      "text/plain": [
       "                   Target Lines of code Optimizable lines Analysis time  \\\n",
       "0    ../PL/pfinal/utils.c           233                58         35 ms   \n",
       "1  ../PL/pfinal/symbols.c            94                 6         30 ms   \n",
       "2                   Total           327                64         65 ms   \n",
       "\n",
       "  # checks Effort   Cost Profiling  \n",
       "0        4   28 h   916€       n/a  \n",
       "1        1    8 h   261€       n/a  \n",
       "2        5   36 h  1178€       n/a  "
      ]
     },
     "execution_count": 7,
     "metadata": {},
     "output_type": "execute_result"
    }
   ],
   "source": [
    "d1"
   ]
  }
 ],
 "metadata": {
  "kernelspec": {
   "display_name": "Python 3",
   "language": "python",
   "name": "python3"
  },
  "language_info": {
   "codemirror_mode": {
    "name": "ipython",
    "version": 3
   },
   "file_extension": ".py",
   "mimetype": "text/x-python",
   "name": "python",
   "nbconvert_exporter": "python",
   "pygments_lexer": "ipython3",
   "version": "3.11.7"
  }
 },
 "nbformat": 4,
 "nbformat_minor": 2
}
